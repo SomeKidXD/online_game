{
 "cells": [
  {
   "cell_type": "code",
   "execution_count": 1,
   "id": "6c3c4cd9",
   "metadata": {},
   "outputs": [],
   "source": [
    "import uuid\n",
    "import redis"
   ]
  },
  {
   "cell_type": "code",
   "execution_count": 2,
   "id": "b3b0d2c1",
   "metadata": {},
   "outputs": [],
   "source": [
    "redis_client = redis.StrictRedis(\"localhost\", decode_responses=True)"
   ]
  },
  {
   "cell_type": "code",
   "execution_count": 3,
   "id": "ea3e1d6f",
   "metadata": {},
   "outputs": [
    {
     "data": {
      "text/plain": [
       "['user default on nopass ~* +@all']"
      ]
     },
     "execution_count": 3,
     "metadata": {},
     "output_type": "execute_result"
    }
   ],
   "source": [
    "redis_client.acl_list()"
   ]
  },
  {
   "cell_type": "code",
   "execution_count": 4,
   "id": "d4f074f9",
   "metadata": {},
   "outputs": [],
   "source": [
    "player_username = uuid.uuid4().hex\n",
    "player_password = redis_client.acl_genpass()"
   ]
  },
  {
   "cell_type": "code",
   "execution_count": 5,
   "id": "a6aa3e4a",
   "metadata": {},
   "outputs": [],
   "source": [
    "player_categories = [\n",
    "    \"+connection\"\n",
    "]\n",
    "\n",
    "player_commands = [\n",
    "    \"+get\"\n",
    "]"
   ]
  },
  {
   "cell_type": "code",
   "execution_count": 6,
   "id": "b78c1d28",
   "metadata": {},
   "outputs": [
    {
     "data": {
      "text/plain": [
       "True"
      ]
     },
     "execution_count": 6,
     "metadata": {},
     "output_type": "execute_result"
    }
   ],
   "source": [
    "redis_client.acl_setuser(\n",
    "    username=player_username,\n",
    "    enabled=True,\n",
    "    passwords=[\"+\" + player_password],\n",
    "    categories=player_categories,\n",
    "    commands=player_commands,\n",
    "    keys=[f\"{player_username}__*\"],\n",
    "    reset=True,\n",
    "    reset_keys=True,\n",
    "    reset_passwords=True\n",
    ")"
   ]
  },
  {
   "cell_type": "code",
   "execution_count": 7,
   "id": "c28cf9e2",
   "metadata": {},
   "outputs": [
    {
     "data": {
      "text/plain": [
       "{'flags': ['on'],\n",
       " 'passwords': ['349b49fbe964de398cbe49c61807ad0a466448060ced93cc18d8e03e02c10090'],\n",
       " 'commands': ['+get'],\n",
       " 'keys': ['ad83105b44e84d40be1abe9e2e75439a__*'],\n",
       " 'categories': ['-@all', '+@connection'],\n",
       " 'enabled': True}"
      ]
     },
     "execution_count": 7,
     "metadata": {},
     "output_type": "execute_result"
    }
   ],
   "source": [
    "redis_client.acl_getuser(player_username)"
   ]
  },
  {
   "cell_type": "code",
   "execution_count": 8,
   "id": "eeb6f0c7",
   "metadata": {},
   "outputs": [],
   "source": [
    "user_test = redis.StrictRedis(username=player_username, password=player_password, decode_responses=True)"
   ]
  },
  {
   "cell_type": "code",
   "execution_count": 9,
   "id": "586526e3",
   "metadata": {},
   "outputs": [],
   "source": [
    "user_test.get(f\"{player_username}__gg\")"
   ]
  },
  {
   "cell_type": "code",
   "execution_count": null,
   "id": "a60fcd77",
   "metadata": {},
   "outputs": [],
   "source": []
  }
 ],
 "metadata": {
  "kernelspec": {
   "display_name": "Python 3",
   "language": "python",
   "name": "python3"
  },
  "language_info": {
   "codemirror_mode": {
    "name": "ipython",
    "version": 3
   },
   "file_extension": ".py",
   "mimetype": "text/x-python",
   "name": "python",
   "nbconvert_exporter": "python",
   "pygments_lexer": "ipython3",
   "version": "3.8.2"
  }
 },
 "nbformat": 4,
 "nbformat_minor": 5
}
