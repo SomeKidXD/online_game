{
 "cells": [
  {
   "cell_type": "code",
   "execution_count": 65,
   "metadata": {},
   "outputs": [],
   "source": [
    "import uuid\n",
    "import redis\n",
    "import json\n",
    "\n",
    "from gearsclient import GearsRemoteBuilder as GearsBuilder\n",
    "from gearsclient import execute\n",
    "\n",
    "# import geopandas as gpd\n",
    "\n",
    "# from shapely.geometry import Point, Polygon, LineString, box\n",
    "# from shapely.affinity import rotate, translate"
   ]
  },
  {
   "cell_type": "code",
   "execution_count": 66,
   "metadata": {},
   "outputs": [],
   "source": [
    "def parse_action(message):\n",
    "    execute('PUBLISH', \"player_actions_response\", \"DONE\")\n",
    "    \n",
    "    new_state = action_mapping[message[\"value\"][\"action\"]](message[\"value\"][\"action_args\"], \"GG\")\n",
    "    update_state(new_state)\n",
    "\n",
    "\n",
    "def update_state(state):\n",
    "    pass\n",
    "    \n",
    "    \n",
    "def callback():\n",
    "    pass\n",
    "\n",
    "\n",
    "def shoot(shooter_state, game_state):\n",
    "    print(\"SHOOOT\")\n",
    "    verdict = None\n",
    "    callback()\n",
    "    return \"gg\"\n",
    "\n",
    "\n",
    "def interact(a,b):\n",
    "    verdict = None\n",
    "    callback(verdict)\n",
    "    return new_state\n",
    "\n",
    "\n",
    "def respawn(a,b):\n",
    "    verdict = None\n",
    "    callback(verdict)\n",
    "    return new_state\n",
    "\n",
    "\n",
    "def move(a,b):\n",
    "    verdict = None\n",
    "    callback(verdict)\n",
    "    return new_state\n",
    "\n",
    "action_mapping = {\n",
    "    \"shoot\": shoot,\n",
    "    \"interact\": interact,\n",
    "    \"respawn\": respawn,\n",
    "    \"move\": move\n",
    "}"
   ]
  },
  {
   "cell_type": "code",
   "execution_count": 67,
   "metadata": {},
   "outputs": [
    {
     "data": {
      "text/plain": [
       "b'OK'"
      ]
     },
     "execution_count": 67,
     "metadata": {},
     "output_type": "execute_result"
    }
   ],
   "source": [
    "redis_client = redis.StrictRedis(\"localhost\", decode_responses=True)\n",
    "\n",
    "gb = GearsBuilder('StreamReader','player_actions')\n",
    "gb.foreach(lambda message: parse_action(message))\n",
    "gb.register('player_actions')"
   ]
  },
  {
   "cell_type": "code",
   "execution_count": 71,
   "metadata": {},
   "outputs": [
    {
     "data": {
      "text/plain": [
       "'1620077572160-0'"
      ]
     },
     "execution_count": 71,
     "metadata": {},
     "output_type": "execute_result"
    }
   ],
   "source": [
    "redis_client.xadd(\"player_actions\", {\"action\": \"shoot\", \"action_args\": json.dumps({\"x\":1, \"y\": 0, \"o\": 3.14})})"
   ]
  },
  {
   "cell_type": "code",
   "execution_count": 55,
   "metadata": {},
   "outputs": [
    {
     "ename": "NameError",
     "evalue": "name 'Point' is not defined",
     "output_type": "error",
     "traceback": [
      "\u001b[0;31m---------------------------------------------------------------------------\u001b[0m",
      "\u001b[0;31mNameError\u001b[0m                                 Traceback (most recent call last)",
      "\u001b[0;32m<ipython-input-55-24f1f9f40302>\u001b[0m in \u001b[0;36m<module>\u001b[0;34m\u001b[0m\n\u001b[0;32m----> 1\u001b[0;31m \u001b[0mp1\u001b[0m \u001b[0;34m=\u001b[0m \u001b[0mPoint\u001b[0m\u001b[0;34m(\u001b[0m\u001b[0;36m.5\u001b[0m\u001b[0;34m,\u001b[0m\u001b[0;36m.5\u001b[0m\u001b[0;34m)\u001b[0m\u001b[0;34m\u001b[0m\u001b[0;34m\u001b[0m\u001b[0m\n\u001b[0m\u001b[1;32m      2\u001b[0m \u001b[0mp2\u001b[0m \u001b[0;34m=\u001b[0m \u001b[0mPoint\u001b[0m\u001b[0;34m(\u001b[0m\u001b[0;36m.5\u001b[0m\u001b[0;34m,\u001b[0m\u001b[0;36m1\u001b[0m\u001b[0;34m)\u001b[0m\u001b[0;34m\u001b[0m\u001b[0;34m\u001b[0m\u001b[0m\n\u001b[1;32m      3\u001b[0m \u001b[0mp3\u001b[0m \u001b[0;34m=\u001b[0m \u001b[0mPoint\u001b[0m\u001b[0;34m(\u001b[0m\u001b[0;36m1\u001b[0m\u001b[0;34m,\u001b[0m\u001b[0;36m1\u001b[0m\u001b[0;34m)\u001b[0m\u001b[0;34m\u001b[0m\u001b[0;34m\u001b[0m\u001b[0m\n\u001b[1;32m      4\u001b[0m \u001b[0;34m\u001b[0m\u001b[0m\n\u001b[1;32m      5\u001b[0m \u001b[0mpoints\u001b[0m \u001b[0;34m=\u001b[0m \u001b[0mgpd\u001b[0m\u001b[0;34m.\u001b[0m\u001b[0mGeoSeries\u001b[0m\u001b[0;34m(\u001b[0m\u001b[0;34m[\u001b[0m\u001b[0mp1\u001b[0m\u001b[0;34m,\u001b[0m\u001b[0mp2\u001b[0m\u001b[0;34m,\u001b[0m\u001b[0mp3\u001b[0m\u001b[0;34m]\u001b[0m\u001b[0;34m)\u001b[0m\u001b[0;34m\u001b[0m\u001b[0;34m\u001b[0m\u001b[0m\n",
      "\u001b[0;31mNameError\u001b[0m: name 'Point' is not defined"
     ]
    }
   ],
   "source": [
    "p1 = Point(.5,.5)\n",
    "p2 = Point(.5,1)\n",
    "p3 = Point(1,1)\n",
    "\n",
    "points = gpd.GeoSeries([p1,p2,p3])\n",
    "poly = gpd.GeoSeries([Polygon([(0,0), (0,2), (2,2), (2,0)])])"
   ]
  },
  {
   "cell_type": "code",
   "execution_count": 56,
   "metadata": {},
   "outputs": [
    {
     "ename": "NameError",
     "evalue": "name 'geopandas' is not defined",
     "output_type": "error",
     "traceback": [
      "\u001b[0;31m---------------------------------------------------------------------------\u001b[0m",
      "\u001b[0;31mNameError\u001b[0m                                 Traceback (most recent call last)",
      "\u001b[0;32m<ipython-input-56-4b0b7f4d95ca>\u001b[0m in \u001b[0;36m<module>\u001b[0;34m\u001b[0m\n\u001b[0;32m----> 1\u001b[0;31m \u001b[0mgeopandas\u001b[0m\u001b[0;34m.\u001b[0m\u001b[0moverlay\u001b[0m\u001b[0;34m(\u001b[0m\u001b[0;34m)\u001b[0m\u001b[0;34m\u001b[0m\u001b[0;34m\u001b[0m\u001b[0m\n\u001b[0m",
      "\u001b[0;31mNameError\u001b[0m: name 'geopandas' is not defined"
     ]
    }
   ],
   "source": [
    "geopandas.overlay()"
   ]
  },
  {
   "cell_type": "code",
   "execution_count": 42,
   "metadata": {},
   "outputs": [
    {
     "data": {
      "text/plain": [
       "True"
      ]
     },
     "execution_count": 42,
     "metadata": {},
     "output_type": "execute_result"
    }
   ],
   "source": [
    "x.intersects(translate(x,0,0))"
   ]
  },
  {
   "cell_type": "code",
   "execution_count": 5,
   "metadata": {},
   "outputs": [],
   "source": []
  },
  {
   "cell_type": "code",
   "execution_count": null,
   "metadata": {},
   "outputs": [],
   "source": []
  },
  {
   "cell_type": "code",
   "execution_count": 13,
   "metadata": {},
   "outputs": [],
   "source": []
  },
  {
   "cell_type": "code",
   "execution_count": null,
   "metadata": {},
   "outputs": [],
   "source": []
  },
  {
   "cell_type": "code",
   "execution_count": null,
   "metadata": {},
   "outputs": [],
   "source": [
    "\n",
    "\n",
    "res = GearsBuilder('KeysOnlyReader', r=conn).\\\n",
    "\t  map(lambda x:execute('hget', x, 'genres')).\\\n",
    "\t  filter(lambda x:x != '\\\\N').\\\n",
    "\t  flatmap(lambda x: x.split(',')).\\\n",
    "\t  map(lambda x: x.strip()).\\\n",
    "\t  countby().\\\n",
    "\t  run()\n",
    "\n",
    "\n",
    "for r in res[0]:\n",
    "\tprint('%-15s: %d' % (r['key'], r['value']))"
   ]
  }
 ],
 "metadata": {
  "kernelspec": {
   "display_name": "Python 3",
   "language": "python",
   "name": "python3"
  }
 },
 "nbformat": 4,
 "nbformat_minor": 5
}
